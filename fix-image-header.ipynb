{
 "cells": [
  {
   "cell_type": "markdown",
   "metadata": {},
   "source": [
    "# Editing Headers of FITS Images #\n",
    "We need to update the headers in some of our images because the TCS system was not communicating reliably while we were taking data.\n",
    "\n",
    "\n",
    "References:\n",
    "* http://www.astropy.org/astropy-tutorials/FITS-header.html\n",
    "* http://docs.astropy.org/en/stable/io/fits/"
   ]
  },
  {
   "cell_type": "code",
   "execution_count": 3,
   "metadata": {
    "collapsed": true
   },
   "outputs": [],
   "source": [
    "from astropy.io import fits\n",
    "from matplotlib import pyplot as plt\n",
    "%matplotlib inline\n",
    "import numpy as np"
   ]
  },
  {
   "cell_type": "code",
   "execution_count": 4,
   "metadata": {
    "collapsed": true
   },
   "outputs": [],
   "source": [
    "ref_image = 'images/r1442801.fit'\n",
    "bad_image = 'images/r1442802.fit'"
   ]
  },
  {
   "cell_type": "markdown",
   "metadata": {},
   "source": [
    "## Option 1 ##\n",
    "Copy entire primary header of reference image to the bad image."
   ]
  },
  {
   "cell_type": "code",
   "execution_count": 31,
   "metadata": {
    "collapsed": false
   },
   "outputs": [],
   "source": [
    "## this swaps the entire header\n",
    "hdu1 = fits.open(ref_image)\n",
    "ref_header = hdu1[0].header\n",
    "\n",
    "hdu2 = fits.open(bad_image)\n",
    "hdu2[0].header = hdu1[0].header\n",
    "hdu2.writeto('images/fixed_image.fits',overwrite=True)\n",
    "hdu1.close()\n",
    "hdu2.close()"
   ]
  },
  {
   "cell_type": "markdown",
   "metadata": {},
   "source": [
    "## Option 2 ##\n",
    "Swap only a few fields"
   ]
  },
  {
   "cell_type": "code",
   "execution_count": 32,
   "metadata": {
    "collapsed": false
   },
   "outputs": [],
   "source": [
    "## swap only a few fields\n",
    "header_keywords = ['LATITUDE','LONGITUDE','HEIGHT','SLATEL','TELESCOP','TELSTAT','RA', 'DEC','EQUINOX','RADECSYS']\n",
    "hdu1 = fits.open(ref_image)\n",
    "ref_header = hdu1[0].header\n",
    "hdu2 = fits.open(bad_image)\n",
    "for kw in header_keywords:\n",
    "    hdu2[0].header[kw] = hdu1[0].header[kw]\n",
    "hdu2.writeto('images/fixed_image.v2.fits',overwrite=True)\n",
    "hdu1.close()\n",
    "hdu2.close()"
   ]
  },
  {
   "cell_type": "markdown",
   "metadata": {},
   "source": [
    "## The Winner !!!  ##"
   ]
  },
  {
   "cell_type": "code",
   "execution_count": 40,
   "metadata": {
    "collapsed": false
   },
   "outputs": [],
   "source": [
    "## hybrid approach\n",
    "# read in files\n",
    "hdu1 = fits.open(ref_image)\n",
    "ref_header = hdu1[0].header\n",
    "hdu2 = fits.open(bad_image)\n",
    "\n",
    "# copy header of bad image to a temp location\n",
    "bad_header = hdu2[0].header\n",
    "# copy header of good image to the bad image\n",
    "hdu2[0].header = hdu1[0].header\n",
    "\n",
    "# go through orginal header of bad image\n",
    "# replace values in copied header with original values from bad image\n",
    "good_keywords = list(bad_header.keys())\n",
    "for kw in good_keywords:\n",
    "    if kw == 'COMMENT':\n",
    "        continue\n",
    "    hdu2[0].header[kw] = bad_header[kw]\n",
    "\n",
    "# write image with fixed header    \n",
    "hdu2.writeto('images/fixed_image.v3.fits',overwrite=True)\n",
    "# close images\n",
    "hdu1.close()\n",
    "hdu2.close()"
   ]
  },
  {
   "cell_type": "code",
   "execution_count": null,
   "metadata": {
    "collapsed": true
   },
   "outputs": [],
   "source": []
  }
 ],
 "metadata": {
  "kernelspec": {
   "display_name": "Python [conda env:py36]",
   "language": "python",
   "name": "conda-env-py36-py"
  },
  "language_info": {
   "codemirror_mode": {
    "name": "ipython",
    "version": 3
   },
   "file_extension": ".py",
   "mimetype": "text/x-python",
   "name": "python",
   "nbconvert_exporter": "python",
   "pygments_lexer": "ipython3",
   "version": "3.6.5"
  }
 },
 "nbformat": 4,
 "nbformat_minor": 2
}
