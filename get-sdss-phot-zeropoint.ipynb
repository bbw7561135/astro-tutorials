{
 "cells": [
  {
   "cell_type": "markdown",
   "metadata": {},
   "source": [
    "## How to get the flux zeropoint from an SDSS image ##\n",
    "\n",
    "in https://github.com/rfinn/astro-tutorials/blob/master/get-sdss-images-and-psf.ipynb we went through how to download an SDSS image and reconstruct the PSF.\n",
    "\n",
    "In this notebook, we show how to get the flux zeropoint of the image.  This is useful if you want to measure your own photometry with a typical (i.e. non-nanomaggy) photometry program.  "
   ]
  },
  {
   "cell_type": "code",
   "execution_count": 1,
   "metadata": {
    "collapsed": true
   },
   "outputs": [],
   "source": [
    "from astropy.io import fits\n",
    "import numpy as np"
   ]
  },
  {
   "cell_type": "markdown",
   "metadata": {},
   "source": [
    "### Define the image name ###\n",
    "\n",
    "We downloaded an image called **frame-r-003893-4-0293.fits.bz2** in the \n",
    "\n",
    "https://github.com/rfinn/astro-tutorials/blob/master/get-sdss-images-and-psf.ipynb\n",
    "\n",
    "tutorial."
   ]
  },
  {
   "cell_type": "code",
   "execution_count": 5,
   "metadata": {
    "collapsed": true
   },
   "outputs": [],
   "source": [
    "image = 'frame-r-003893-4-0293.fits.bz2'"
   ]
  },
  {
   "cell_type": "markdown",
   "metadata": {},
   "source": [
    "### Open image and read zeropoint in nanomaggies ###\n"
   ]
  },
  {
   "cell_type": "code",
   "execution_count": 6,
   "metadata": {
    "collapsed": false
   },
   "outputs": [],
   "source": [
    "dat = fits.open(image)"
   ]
  },
  {
   "cell_type": "code",
   "execution_count": 7,
   "metadata": {
    "collapsed": false
   },
   "outputs": [
    {
     "name": "stdout",
     "output_type": "stream",
     "text": [
      "Filename: frame-r-003893-4-0293.fits.bz2\n",
      "No.    Name         Type      Cards   Dimensions   Format\n",
      "  0  PRIMARY     PrimaryHDU      96   (2048, 1489)   float32   \n",
      "  1              ImageHDU         6   (2048,)   float32   \n",
      "  2              BinTableHDU     27   1R x 3C   [49152E, 2048E, 1489E]   \n",
      "  3              BinTableHDU     79   1R x 31C   [J, 3A, J, A, D, D, 2J, J, D, D, D, D, D, D, D, D, D, D, D, D, D, D, D, D, D, D, D, D, D, E, E]   \n"
     ]
    }
   ],
   "source": [
    "dat.info()"
   ]
  },
  {
   "cell_type": "code",
   "execution_count": 13,
   "metadata": {
    "collapsed": false
   },
   "outputs": [
    {
     "data": {
      "text/plain": [
       "SIMPLE  =                    T /                                                \n",
       "BITPIX  =                  -32 / 32 bit floating point                          \n",
       "NAXIS   =                    2                                                  \n",
       "NAXIS1  =                 2048                                                  \n",
       "NAXIS2  =                 1489                                                  \n",
       "EXTEND  =                    T /Extensions may be present                       \n",
       "BZERO   =              0.00000 /Set by MRD_SCALE                                \n",
       "BSCALE  =              1.00000 /Set by MRD_SCALE                                \n",
       "TAI     =        4557965278.03 / 1st row - Number of seconds since Nov 17 1858  \n",
       "RA      =            207.63518 / 1st row - Right ascension of telescope boresigh\n",
       "DEC     =            40.222875 / 1st row - Declination of telescope boresight (d\n",
       "SPA     =             105.071  / 1st row - Camera col position angle wrt north (\n",
       "IPA     =             215.612  / 1st row - Instrument rotator position angle (de\n",
       "IPARATE =             -0.0016  / 1st row - Instrument rotator angular velocity (\n",
       "AZ      =            121.78775 / 1st row - Azimuth  (encoder) of tele (0=N?) (de\n",
       "ALT     =            73.080333 / 1st row - Altitude (encoder) of tele        (de\n",
       "FOCUS   =           -422.40000 / 1st row - Focus piston (microns?)              \n",
       "DATE-OBS= '2003-04-25'         / 1st row - TAI date                             \n",
       "TAIHMS  = '05:27:58.03'        / 1st row - TAI time (HH:MM:SS.SS) (TAI-UT = appr\n",
       "COMMENT  TAI,RA,DEC,SPA,IPA,IPARATE,AZ,ALT,FOCUS at reading of col 0, row 0     \n",
       "ORIGIN  = 'SDSS    '                                                            \n",
       "TELESCOP= '2.5m    '                                                            \n",
       "TIMESYS = 'TAI     '                                                            \n",
       "RUN     =                 3893 / Run number                                     \n",
       "FRAME   =                  293 / Frame sequence number within the run           \n",
       "CCDLOC  =                   14 / Survey location of CCD (e.g., rowCol)          \n",
       "STRIPE  =                   27 / Stripe index number (23 <--> eta=0)            \n",
       "STRIP   = 'N       '           / Strip in the stripe being tracked.             \n",
       "FLAVOR  = 'science '           / Flavor of this run                             \n",
       "OBSERVER= 'long    '           / Observer                                       \n",
       "SYS_SCN = 'mean    '           / System of the scan great circle (e.g., mean)   \n",
       "EQNX_SCN=           2000.00    / Equinox of the scan great circle. (years)      \n",
       "NODE    =           95.00000   / RA of the great circle's ascending node (deg)  \n",
       "INCL    =           42.50000   / Great circle's inclination wrt cel. eq. (deg)  \n",
       "XBORE   =           -22.74     / Boresight x offset from the array center (mm)  \n",
       "YBORE   =           0.00       / Boresight x offset from the array center (mm)  \n",
       "OBJECT  = '27 N    '           / e.g., 'stripe 50.6 degrees, north strip'       \n",
       "EXPTIME = '53.907456'          / Exposure time (seconds)                        \n",
       "SYSTEM  = 'FK5     '           / System of the TCC coordinates (e.g., mean)     \n",
       "CCDMODE = 'DRIFT   '           / 'STARING' or 'DRIFT'                           \n",
       "C_OBS   =                26322 / CCD row clock rate (usec/row)                  \n",
       "COLBIN  =                    1 / Binning factor perpendicular to the columns    \n",
       "ROWBIN  =                    1 / Binning factor perpendicular to the rows       \n",
       "DAVERS  = 'v14_47  '           / Version of DA software                         \n",
       "SCDMETHD= 'sqrtDynamic'        / scdMethod                                      \n",
       "SCDWIDTH=                 1280 / scdDisplayWidth                                \n",
       "SCDDECMF=                    1 / scdDecimateFactor                              \n",
       "SCDOFSET=                  410 / scdDisplayOffset                               \n",
       "SCDDYNTH=                  -21 / scdDynamicThresh                               \n",
       "SCDSTTHL=                18730 / scdStaticThreshL                               \n",
       "SCDSTTHR=                18725 / scdStaticThreshR                               \n",
       "SCDREDSZ=                  527 / scdReduceSize                                  \n",
       "SCDSKYL =                    0 / scdSkyLeft                                     \n",
       "SCDSKYR =                    0 / scdSkyRight                                    \n",
       "COMMENT  CCD-specific parameters                                                \n",
       "CAMROW  =                    1 / Row in the imaging camera                      \n",
       "BADLINES=                    0 / Number of bad lines in frame                   \n",
       "EQUINOX =              2000.00 /                                                \n",
       "SOFTBIAS=                 1000 / software \"bias\" added to all DN                \n",
       "BUNIT   = 'nanomaggy'          / 1 nanomaggy = 3.631e-6 Jy                      \n",
       "FILTER  = 'r       '           / filter used                                    \n",
       "CAMCOL  =                    4 / column in the imaging camera                   \n",
       "VERSION = 'v5_6_3  '                                                            \n",
       "DERV_VER= 'NOCVS:v8_23'                                                         \n",
       "ASTR_VER= 'NOCVS:v5_24'                                                         \n",
       "ASTRO_ID= '2009-05-27T20:50:26 14665'                                           \n",
       "BIAS_ID = 'PS      '                                                            \n",
       "FRAME_ID= '2009-09-24T16:05:48 20558'                                           \n",
       "KO_VER  = 'devel   '                                                            \n",
       "PS_ID   = '2009-05-27T14:15:56 15533 camCol 4'                                  \n",
       "ATVSN   = 'NOCVS:v5_24'        / ASTROTOOLS version tag                         \n",
       "RADECSYS= 'ICRS    '           / International Celestial Ref. System            \n",
       "CTYPE1  = 'RA---TAN'           /Coordinate type                                 \n",
       "CTYPE2  = 'DEC--TAN'           /Coordinate type                                 \n",
       "CUNIT1  = 'deg     '           /Units                                           \n",
       "CUNIT2  = 'deg     '           /Units                                           \n",
       "CRPIX1  =        1025.00000000 /X of reference pixel                            \n",
       "CRPIX2  =        745.000000000 /Y of reference pixel                            \n",
       "CRVAL1  =        208.464950949 /RA of reference pixel (deg)                     \n",
       "CRVAL2  =        40.3756077163 /Dec of reference pixel (deg)                    \n",
       "CD1_1   =    2.96087085541E-05 /RA deg per column pixel                         \n",
       "CD1_2   =    0.000105946219009 /RA deg per row pixel                            \n",
       "CD2_1   =    0.000105937047318 /Dec deg per column pixel                        \n",
       "CD2_2   =   -2.95769618810E-05 /Dec deg per row pixel                           \n",
       "HISTORY GSSSPUTAST: Sep 24 16:05:56 2009                                        \n",
       "COMMENT  Calibration parameters                                                 \n",
       "COMMENT  Floats truncated at 10 binary digits with FLOATCOMPRESS                \n",
       "NMGY    =           0.00499332 / Calibration factor [nMgy per count]            \n",
       "NMGYIVAR=             0.236647 / Calibration factor inverse variance            \n",
       "VERSIDL = '7.0     '           / Version of IDL                                 \n",
       "VERSUTIL= 'v5_5_5  '           / Version of idlutils                            \n",
       "VERSPOP = 'v1_11_1 '           / Version of photoop product                     \n",
       "PCALIB  = '/clusterfs/riemann/raid006/bosswork/groups/boss/calib/2009-06-14/cal'\n",
       "PSKY    = '/clusterfs/riemann/raid006/bosswork/groups/boss/photo/sky' / Value of\n",
       "RERUN   = '301     '           / rerun                                          \n",
       "HISTORY SDSS_FRAME_ASTROM: Astrometry fixed for dr9 Sun Jun 17 07:36:11 2012    "
      ]
     },
     "execution_count": 13,
     "metadata": {},
     "output_type": "execute_result"
    }
   ],
   "source": [
    "dat[0].header"
   ]
  },
  {
   "cell_type": "markdown",
   "metadata": {},
   "source": [
    "The flux zeropoint is given in nanomaggies under the header field NMGY.  Below we print the value."
   ]
  },
  {
   "cell_type": "code",
   "execution_count": 19,
   "metadata": {
    "collapsed": false
   },
   "outputs": [
    {
     "name": "stdout",
     "output_type": "stream",
     "text": [
      "0.00499332\n"
     ]
    }
   ],
   "source": [
    "flux_zp_nmgy = dat[0].header['NMGY']\n",
    "print zp_nmgy"
   ]
  },
  {
   "cell_type": "markdown",
   "metadata": {},
   "source": [
    "Get the exposure time so that we can convert flux to counts/sec."
   ]
  },
  {
   "cell_type": "code",
   "execution_count": 24,
   "metadata": {
    "collapsed": false
   },
   "outputs": [
    {
     "name": "stdout",
     "output_type": "stream",
     "text": [
      "53.907456\n"
     ]
    }
   ],
   "source": [
    "exptime = float(dat[0].header['EXPTIME'])\n",
    "print exptime"
   ]
  },
  {
   "cell_type": "markdown",
   "metadata": {},
   "source": [
    "This website gives the conversion between nanomaggies and regular magnitudes:\n",
    "\n",
    "http://www.sdss.org/dr12/algorithms/magnitudes/\n",
    "\n",
    "\n",
    "$ m = 22.5 - 2.5 \\log_{10}(f)$\n",
    "\n",
    "where $f$ is the flux of the source in nanomaggies, and $m$ is the (almost) AB magnitude.\n",
    "\n",
    "The units of the image are nanomaggies, but we need to correct the zeropoint for the exposure time of the image."
   ]
  },
  {
   "cell_type": "code",
   "execution_count": 32,
   "metadata": {
    "collapsed": false
   },
   "outputs": [
    {
     "name": "stdout",
     "output_type": "stream",
     "text": [
      "18.1708779073\n"
     ]
    }
   ],
   "source": [
    "zp = 22.5 - 2.5*np.log10(exptime)\n",
    "print zp"
   ]
  },
  {
   "cell_type": "code",
   "execution_count": null,
   "metadata": {
    "collapsed": true
   },
   "outputs": [],
   "source": []
  }
 ],
 "metadata": {
  "kernelspec": {
   "display_name": "Python [default]",
   "language": "python",
   "name": "python2"
  },
  "language_info": {
   "codemirror_mode": {
    "name": "ipython",
    "version": 2
   },
   "file_extension": ".py",
   "mimetype": "text/x-python",
   "name": "python",
   "nbconvert_exporter": "python",
   "pygments_lexer": "ipython2",
   "version": "2.7.13"
  }
 },
 "nbformat": 4,
 "nbformat_minor": 2
}
