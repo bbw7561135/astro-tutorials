{
 "cells": [
  {
   "cell_type": "code",
   "execution_count": 13,
   "metadata": {
    "collapsed": true
   },
   "outputs": [],
   "source": [
    "from matplotlib import pyplot as plt\n",
    "import numpy as np\n",
    "from scipy.optimize import curve_fit\n",
    "%matplotlib inline"
   ]
  },
  {
   "cell_type": "code",
   "execution_count": 2,
   "metadata": {
    "collapsed": true
   },
   "outputs": [],
   "source": [
    "sdssr = np.array([14.467, 14.005, 14.369, 14.393, 14.098, 14.943, 14.712,14.668, 14.705, 14.635, 14.337])"
   ]
  },
  {
   "cell_type": "code",
   "execution_count": 14,
   "metadata": {
    "collapsed": true
   },
   "outputs": [],
   "source": [
    "instmag = np.array([-7.49,-7.98,-7.55,-7.59,-7.90,-7.10,-7.24,-7.35,-7.29,-7.34,-7.70])"
   ]
  },
  {
   "cell_type": "code",
   "execution_count": 15,
   "metadata": {
    "collapsed": false
   },
   "outputs": [],
   "source": [
    "# fit line with slope equals 1\n",
    "# just fit intercept\n",
    "def func(x, a):\n",
    "    return x + a"
   ]
  },
  {
   "cell_type": "code",
   "execution_count": 10,
   "metadata": {
    "collapsed": false
   },
   "outputs": [
    {
     "name": "stdout",
     "output_type": "stream",
     "text": [
      "[-21.98745455]\n"
     ]
    }
   ],
   "source": [
    "popt, pcov = curve_fit(func, sdssr, instmag)\n",
    "print(popt)"
   ]
  },
  {
   "cell_type": "code",
   "execution_count": 11,
   "metadata": {
    "collapsed": false
   },
   "outputs": [
    {
     "name": "stdout",
     "output_type": "stream",
     "text": [
      "[ 21.98745455]\n"
     ]
    }
   ],
   "source": [
    "popt, pcov = curve_fit(func, instmag, sdssr)\n",
    "print(popt)"
   ]
  },
  {
   "cell_type": "code",
   "execution_count": 35,
   "metadata": {
    "collapsed": false
   },
   "outputs": [
    {
     "data": {
      "text/plain": [
       "<matplotlib.text.Text at 0x1119073d0>"
      ]
     },
     "execution_count": 35,
     "metadata": {},
     "output_type": "execute_result"
    },
    {
     "data": {
      "image/png": "[encoded data removed]",
      "text/plain": [
       "<matplotlib.figure.Figure at 0x1116850d0>"
      ]
     },
     "metadata": {},
     "output_type": "display_data"
    }
   ],
   "source": [
    "plt.figure()\n",
    "plt.plot(instmag, sdssr,'bo')\n",
    "plt.errorbar(instmag,sdssr,yerr=None,xerr=.03*np.ones(len(instmag)),fmt=None,ecolor='b',capsize=5)\n",
    "xline = np.linspace(min(instmag),max(instmag),100)\n",
    "plt.plot(xline, func(xline, popt),'k--')\n",
    "plt.xlabel('Instrumental Magnitude',fontsize=14)\n",
    "plt.ylabel('SDSS r-band Magnitude',fontsize=14)\n",
    "plt.xticks(fontsize=12)\n",
    "plt.yticks(fontsize=12)\n",
    "plt.text(-8,14.8,'ZP = %.1f'%(popt),fontsize=14)"
   ]
  },
  {
   "cell_type": "code",
   "execution_count": null,
   "metadata": {
    "collapsed": true
   },
   "outputs": [],
   "source": []
  }
 ],
 "metadata": {
  "kernelspec": {
   "display_name": "Python [default]",
   "language": "python",
   "name": "python2"
  },
  "language_info": {
   "codemirror_mode": {
    "name": "ipython",
    "version": 2
   },
   "file_extension": ".py",
   "mimetype": "text/x-python",
   "name": "python",
   "nbconvert_exporter": "python",
   "pygments_lexer": "ipython2",
   "version": "2.7.6"
  }
 },
 "nbformat": 4,
 "nbformat_minor": 2
}
