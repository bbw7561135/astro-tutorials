{
 "cells": [
  {
   "cell_type": "markdown",
   "metadata": {},
   "source": [
    "### How to get NASA-Sloan Atlas Parameters for a Galaxy ###\n",
    "\n"
   ]
  },
  {
   "cell_type": "markdown",
   "metadata": {},
   "source": [
    "import necessary modules"
   ]
  },
  {
   "cell_type": "code",
   "execution_count": 3,
   "metadata": {
    "collapsed": true
   },
   "outputs": [],
   "source": [
    "from astropy.io import fits\n",
    "import numpy as np"
   ]
  },
  {
   "cell_type": "markdown",
   "metadata": {},
   "source": [
    "define the data path to the NASA-Sloan Atlas catalog"
   ]
  },
  {
   "cell_type": "code",
   "execution_count": 4,
   "metadata": {
    "collapsed": true
   },
   "outputs": [],
   "source": [
    "datdir = '/Users/rfinn/research/NSA/'"
   ]
  },
  {
   "cell_type": "markdown",
   "metadata": {},
   "source": [
    "define the input fits table"
   ]
  },
  {
   "cell_type": "code",
   "execution_count": 5,
   "metadata": {
    "collapsed": true
   },
   "outputs": [],
   "source": [
    "nsatab = datdir+'nsa_v0_1_2.fits'"
   ]
  },
  {
   "cell_type": "markdown",
   "metadata": {},
   "source": [
    "read in fits table"
   ]
  },
  {
   "cell_type": "code",
   "execution_count": 6,
   "metadata": {
    "collapsed": true
   },
   "outputs": [],
   "source": [
    "nsa = fits.getdata(nsatab)"
   ]
  },
  {
   "cell_type": "code",
   "execution_count": 7,
   "metadata": {
    "collapsed": false
   },
   "outputs": [
    {
     "data": {
      "text/plain": [
       "ColDefs(\n",
       "    name = 'IAUNAME'; format = '19A'\n",
       "    name = 'SUBDIR'; format = '27A'\n",
       "    name = 'RA'; format = 'D'\n",
       "    name = 'DEC'; format = 'D'\n",
       "    name = 'ISDSS'; format = 'J'\n",
       "    name = 'INED'; format = 'J'\n",
       "    name = 'ISIXDF'; format = 'J'\n",
       "    name = 'IALFALFA'; format = 'J'\n",
       "    name = 'IZCAT'; format = 'J'\n",
       "    name = 'ITWODF'; format = 'J'\n",
       "    name = 'MAG'; format = 'E'\n",
       "    name = 'Z'; format = 'E'\n",
       "    name = 'ZSRC'; format = '7A'\n",
       "    name = 'SIZE'; format = 'E'\n",
       "    name = 'RUN'; format = 'I'\n",
       "    name = 'CAMCOL'; format = 'B'\n",
       "    name = 'FIELD'; format = 'I'\n",
       "    name = 'RERUN'; format = '3A'\n",
       "    name = 'XPOS'; format = 'E'\n",
       "    name = 'YPOS'; format = 'E'\n",
       "    name = 'ZLG'; format = 'E'\n",
       "    name = 'ZDIST'; format = 'E'\n",
       "    name = 'ZDIST_ERR'; format = 'E'\n",
       "    name = 'NSAID'; format = 'J'\n",
       "    name = 'NMGY'; format = '7E'\n",
       "    name = 'NMGY_IVAR'; format = '7E'\n",
       "    name = 'OK'; format = 'I'\n",
       "    name = 'RNMGY'; format = '7E'\n",
       "    name = 'ABSMAG'; format = '7E'\n",
       "    name = 'AMIVAR'; format = '7E'\n",
       "    name = 'EXTINCTION'; format = '7E'\n",
       "    name = 'KCORRECT'; format = '7E'\n",
       "    name = 'KCOEFF'; format = '5E'\n",
       "    name = 'MTOL'; format = '7E'\n",
       "    name = 'B300'; format = 'E'\n",
       "    name = 'B1000'; format = 'E'\n",
       "    name = 'METS'; format = 'E'\n",
       "    name = 'MASS'; format = 'E'\n",
       "    name = 'XCEN'; format = 'D'\n",
       "    name = 'YCEN'; format = 'D'\n",
       "    name = 'NPROF'; format = '7E'\n",
       "    name = 'PROFMEAN'; format = '105E'; dim = '( 7, 15)'\n",
       "    name = 'PROFMEAN_IVAR'; format = '105E'; dim = '( 7, 15)'\n",
       "    name = 'QSTOKES'; format = '105E'; dim = '( 7, 15)'\n",
       "    name = 'USTOKES'; format = '105E'; dim = '( 7, 15)'\n",
       "    name = 'BASTOKES'; format = '105E'; dim = '( 7, 15)'\n",
       "    name = 'PHISTOKES'; format = '105E'; dim = '( 7, 15)'\n",
       "    name = 'PETROFLUX'; format = '7E'\n",
       "    name = 'PETROFLUX_IVAR'; format = '7E'\n",
       "    name = 'FIBERFLUX'; format = '7E'\n",
       "    name = 'FIBERFLUX_IVAR'; format = '7E'\n",
       "    name = 'BA50'; format = 'E'\n",
       "    name = 'PHI50'; format = 'E'\n",
       "    name = 'BA90'; format = 'E'\n",
       "    name = 'PHI90'; format = 'E'\n",
       "    name = 'SERSICFLUX'; format = '7E'\n",
       "    name = 'SERSICFLUX_IVAR'; format = '7E'\n",
       "    name = 'SERSIC_N'; format = 'E'\n",
       "    name = 'SERSIC_BA'; format = 'E'\n",
       "    name = 'SERSIC_PHI'; format = 'E'\n",
       "    name = 'ASYMMETRY'; format = '7E'\n",
       "    name = 'CLUMPY'; format = '7E'\n",
       "    name = 'DFLAGS'; format = '7J'\n",
       "    name = 'AID'; format = 'J'\n",
       "    name = 'PID'; format = 'J'\n",
       "    name = 'DVERSION'; format = '8A'\n",
       "    name = 'PROFTHETA'; format = '15E'\n",
       "    name = 'PETROTHETA'; format = 'E'\n",
       "    name = 'PETROTH50'; format = 'E'\n",
       "    name = 'PETROTH90'; format = 'E'\n",
       "    name = 'SERSIC_TH50'; format = 'E'\n",
       "    name = 'OBJNO'; format = 'J'\n",
       "    name = 'PLATE'; format = 'J'\n",
       "    name = 'FIBERID'; format = 'J'\n",
       "    name = 'MJD'; format = 'J'\n",
       "    name = 'COEFF'; format = '7E'\n",
       "    name = 'VDISP'; format = 'E'\n",
       "    name = 'D4000'; format = 'E'\n",
       "    name = 'D4000ERR'; format = 'E'\n",
       "    name = 'FA'; format = 'E'\n",
       "    name = 'FAERR'; format = 'E'\n",
       "    name = 'S2FLUX'; format = 'E'\n",
       "    name = 'S2FLUXERR'; format = 'E'\n",
       "    name = 'S2EW'; format = 'E'\n",
       "    name = 'S2EWERR'; format = 'E'\n",
       "    name = 'S2VMEAS'; format = 'E'\n",
       "    name = 'S2VMERR'; format = 'E'\n",
       "    name = 'S2RATIO'; format = 'E'\n",
       "    name = 'HAFLUX'; format = 'E'\n",
       "    name = 'HAFLUXERR'; format = 'E'\n",
       "    name = 'HAEW'; format = 'E'\n",
       "    name = 'HAEWERR'; format = 'E'\n",
       "    name = 'HAVMEAS'; format = 'E'\n",
       "    name = 'HAVMERR'; format = 'E'\n",
       "    name = 'N2FLUX'; format = 'E'\n",
       "    name = 'N2FLUXERR'; format = 'E'\n",
       "    name = 'N2EW'; format = 'E'\n",
       "    name = 'N2EWERR'; format = 'E'\n",
       "    name = 'N2VMEAS'; format = 'E'\n",
       "    name = 'N2VMERR'; format = 'E'\n",
       "    name = 'HBFLUX'; format = 'E'\n",
       "    name = 'HBFLUXERR'; format = 'E'\n",
       "    name = 'HBEW'; format = 'E'\n",
       "    name = 'HBEWERR'; format = 'E'\n",
       "    name = 'HBVMEAS'; format = 'E'\n",
       "    name = 'HBVMERR'; format = 'E'\n",
       "    name = 'O1FLUX'; format = 'E'\n",
       "    name = 'O1FLUXERR'; format = 'E'\n",
       "    name = 'O1EW'; format = 'E'\n",
       "    name = 'O1EWERR'; format = 'E'\n",
       "    name = 'O1VMEAS'; format = 'E'\n",
       "    name = 'O1VMERR'; format = 'E'\n",
       "    name = 'O2FLUX'; format = 'E'\n",
       "    name = 'O2FLUXERR'; format = 'E'\n",
       "    name = 'O2EW'; format = 'E'\n",
       "    name = 'O2EWERR'; format = 'E'\n",
       "    name = 'O2VMEAS'; format = 'E'\n",
       "    name = 'O2VMERR'; format = 'E'\n",
       "    name = 'O3FLUX'; format = 'E'\n",
       "    name = 'O3FLUXERR'; format = 'E'\n",
       "    name = 'O3EW'; format = 'E'\n",
       "    name = 'O3EWERR'; format = 'E'\n",
       "    name = 'O3VMEAS'; format = 'E'\n",
       "    name = 'O3VMERR'; format = 'E'\n",
       "    name = 'AHGEW'; format = 'E'\n",
       "    name = 'AHGEWERR'; format = 'E'\n",
       "    name = 'AHDEW'; format = 'E'\n",
       "    name = 'AHDEWERR'; format = 'E'\n",
       "    name = 'NE3EW'; format = 'E'\n",
       "    name = 'NE3EWERR'; format = 'E'\n",
       "    name = 'NE5EW'; format = 'E'\n",
       "    name = 'NE5EWERR'; format = 'E'\n",
       "    name = 'AV'; format = 'E'\n",
       "    name = 'S2NSAMP'; format = 'E'\n",
       "    name = 'RACAT'; format = 'D'\n",
       "    name = 'DECCAT'; format = 'D'\n",
       "    name = 'ZSDSSLINE'; format = 'E'\n",
       "    name = 'SURVEY'; format = '6A'\n",
       "    name = 'PROGRAMNAME'; format = '23A'\n",
       "    name = 'PLATEQUALITY'; format = '8A'\n",
       "    name = 'TILE'; format = 'J'\n",
       "    name = 'PLUG_RA'; format = 'D'\n",
       "    name = 'PLUG_DEC'; format = 'D'\n",
       ")"
      ]
     },
     "execution_count": 7,
     "metadata": {},
     "output_type": "execute_result"
    }
   ],
   "source": [
    "nsa.columns"
   ]
  },
  {
   "cell_type": "markdown",
   "metadata": {},
   "source": [
    "create a dictionary that links NSAID to the index in NSA table"
   ]
  },
  {
   "cell_type": "code",
   "execution_count": 9,
   "metadata": {
    "collapsed": false
   },
   "outputs": [],
   "source": [
    "nsadict = dict((a,b) for a,b in zip(nsa.NSAID,np.arange(len(nsa.NSAID))))"
   ]
  },
  {
   "cell_type": "markdown",
   "metadata": {},
   "source": [
    "To get the index of a particular galaxy, like NSA 56434"
   ]
  },
  {
   "cell_type": "code",
   "execution_count": 11,
   "metadata": {
    "collapsed": false
   },
   "outputs": [
    {
     "name": "stdout",
     "output_type": "stream",
     "text": [
      "50785\n"
     ]
    }
   ],
   "source": [
    "i = nsadict[56434]\n",
    "print i"
   ]
  },
  {
   "cell_type": "markdown",
   "metadata": {},
   "source": [
    "We want to compare our galfit model to the NSA single-component sersic fit.  So, I need to print the parameters of the NSA model.\n",
    "\n",
    "Here is the last output from our galfit model:\n",
    "\n",
    "\n",
    "    Iteration : 14    Chi2nu: 8.267e-01     dChi2/Chi2: -4.23e-08   alamda: 1e-04   \n",
    "     sersic    : (  480.17,   696.15)   12.20     78.92    1.19    0.50   -89.46\n",
    "     sky       : [500.50, 675.00]  4.33e-04  [0.00e+00]  [0.00e+00]\n",
    "    COUNTDOWN = 0 "
   ]
  },
  {
   "cell_type": "code",
   "execution_count": 24,
   "metadata": {
    "collapsed": false
   },
   "outputs": [
    {
     "name": "stdout",
     "output_type": "stream",
     "text": [
      "sersic index =  1.30871\n",
      "sersic B/A =  0.533221\n",
      "sersic pos ang =  13.9407\n",
      "sersic Re (pix) =  79.0428103823\n",
      "r mag =  12.8763402418\n",
      "extinction @ r =  0.0191132\n"
     ]
    }
   ],
   "source": [
    "print 'sersic index = ',nsa.SERSIC_N[i]\n",
    "print 'sersic B/A = ',nsa.SERSIC_BA[i]\n",
    "print 'sersic pos ang = ',nsa.SERSIC_PHI[i]\n",
    "print 'sersic Re (pix) = ',nsa.SERSIC_TH50[i]/.396\n",
    "print 'r mag = ',5.*np.log10(nsa.ZDIST[i]*3.e5/70.*1.e6) -5+nsa.ABSMAG[i][4]\n",
    "print 'extinction @ r = ',nsa.EXTINCTION[i][4]"
   ]
  },
  {
   "cell_type": "markdown",
   "metadata": {},
   "source": [
    "### Get run, col, field ###"
   ]
  },
  {
   "cell_type": "code",
   "execution_count": 23,
   "metadata": {
    "collapsed": false
   },
   "outputs": [
    {
     "name": "stdout",
     "output_type": "stream",
     "text": [
      "run =  3893\n",
      "camcol =  6\n",
      "field =  287\n",
      "rerun =  301\n"
     ]
    }
   ],
   "source": [
    "print 'run = ',nsa.RUN[i] \n",
    "print 'camcol = ',nsa.CAMCOL[i]\n",
    "print 'field = ',nsa.FIELD[i]\n",
    "print 'rerun = ',nsa.RERUN[i]\n"
   ]
  },
  {
   "cell_type": "code",
   "execution_count": null,
   "metadata": {
    "collapsed": true
   },
   "outputs": [],
   "source": []
  }
 ],
 "metadata": {
  "kernelspec": {
   "display_name": "Python [default]",
   "language": "python",
   "name": "python2"
  },
  "language_info": {
   "codemirror_mode": {
    "name": "ipython",
    "version": 2
   },
   "file_extension": ".py",
   "mimetype": "text/x-python",
   "name": "python",
   "nbconvert_exporter": "python",
   "pygments_lexer": "ipython2",
   "version": "2.7.13"
  }
 },
 "nbformat": 4,
 "nbformat_minor": 2
}
