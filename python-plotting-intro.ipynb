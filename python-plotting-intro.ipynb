{
 "cells": [
  {
   "cell_type": "markdown",
   "metadata": {},
   "source": [
    "# Introduction to Python Plotting \n",
    "\n",
    "The goal of this notebook is to demonstrate a few basic plotting techniques.  For lots of great examples see:\n",
    "\n"
   ]
  },
  {
   "cell_type": "code",
   "execution_count": 1,
   "metadata": {
    "collapsed": true
   },
   "outputs": [],
   "source": [
    "import numpy as np\n",
    "from matplotlib import pyplot as plt\n",
    "%matplotlib inline"
   ]
  },
  {
   "cell_type": "markdown",
   "metadata": {},
   "source": [
    "## Make a plot#\n",
    "\n",
    "* open a figure\n",
    "* make a plot\n",
    "* label axes\n",
    "* add title\n",
    "* save figure\n",
    "* show how to use help to look at other possible arguments"
   ]
  },
  {
   "cell_type": "code",
   "execution_count": null,
   "metadata": {
    "collapsed": true
   },
   "outputs": [],
   "source": []
  },
  {
   "cell_type": "markdown",
   "metadata": {},
   "source": [
    "## Read in Data ##\n",
    "\n",
    "* read in text file (tables/sizes.txt) using np.loadtxt\n",
    "    * size size_err membflag B/T RA DEC\n",
    "* create new arrays containing size, membflag, BT, ra, dec\n",
    "* plot RA and DEC\n",
    "* flip x axis using ax.invert_xaxis()\n",
    "\n",
    "Can also try this:\n",
    "fig = plt.figure(figsize=(8,6))\n",
    "ax = fig.add_subplot(111, projection=\"mollweide\")\n",
    "ax.scatter(ra.radian, dec.radian)\n",
    "ax.set_xticklabels(['14h','16h','18h','20h','22h','0h','2h','4h','6h','8h','10h'])\n",
    "ax.grid(True)\n",
    "\n",
    "\n"
   ]
  },
  {
   "cell_type": "code",
   "execution_count": null,
   "metadata": {
    "collapsed": true
   },
   "outputs": [],
   "source": []
  },
  {
   "cell_type": "code",
   "execution_count": 11,
   "metadata": {
    "collapsed": false
   },
   "outputs": [],
   "source": [
    "from astropy.io import ascii"
   ]
  },
  {
   "cell_type": "markdown",
   "metadata": {},
   "source": [
    "* Repeat Above using ascii.read\n",
    "    * dat = ascii.read('tables/sizes.txt')\n",
    "* import ascii from astropy.io\n",
    "* load table using ascii.read\n",
    "* remake plot above\n",
    "\n",
    "For more on ascii read, see:\n",
    "http://astropy-tutorials.readthedocs.io/en/latest/rst-tutorials/plot-catalog.html"
   ]
  },
  {
   "cell_type": "code",
   "execution_count": 12,
   "metadata": {
    "collapsed": true
   },
   "outputs": [],
   "source": []
  },
  {
   "cell_type": "markdown",
   "metadata": {},
   "source": [
    "## Make a 2-panel plot ##\n",
    "\n",
    "* open a figure\n",
    "* declare a subplot\n",
    "* plot a histogram of column one (sizes)\n",
    "* plot a histogram of column three (B/T)\n",
    "* label axes\n",
    "* add title\n",
    "* adjust spacing between figures using plt.subplots_adjust\n",
    "* save figure"
   ]
  },
  {
   "cell_type": "code",
   "execution_count": null,
   "metadata": {
    "collapsed": true
   },
   "outputs": [],
   "source": []
  },
  {
   "cell_type": "markdown",
   "metadata": {},
   "source": [
    "## Read in a FITS table ##\n",
    "\n",
    "* import astropy\n",
    "* read in table/nsa.virgo.fits using fits.getdata('table/nsa.virgo.fits')\n",
    "* make a plot of RA and DEC\n",
    "* make a scatter plot of RA and DEC\n",
    "* same as above, color coded by ZDISTx3.e5\n",
    "* label xaxis, yaxis, title\n",
    "* invert xaxis"
   ]
  },
  {
   "cell_type": "code",
   "execution_count": null,
   "metadata": {
    "collapsed": true
   },
   "outputs": [],
   "source": []
  },
  {
   "cell_type": "markdown",
   "metadata": {},
   "source": [
    "## Hexbin ##\n",
    "* redo plot above using hexbin"
   ]
  },
  {
   "cell_type": "code",
   "execution_count": null,
   "metadata": {
    "collapsed": true
   },
   "outputs": [],
   "source": []
  },
  {
   "cell_type": "markdown",
   "metadata": {},
   "source": [
    "## Read in a FITS Image ##\n",
    "\n",
    "* read in image/unwise-2076p408-w3-img-m.fits using fits.getdata\n",
    "* display image using imshow\n",
    "* look up some of options within imshow\n",
    "\n",
    "\n",
    "To go further, check out example on how to display RA and DEC on image:\n",
    "http://docs.astropy.org/en/stable/visualization/wcsaxes/\n",
    "\n"
   ]
  },
  {
   "cell_type": "code",
   "execution_count": null,
   "metadata": {
    "collapsed": true
   },
   "outputs": [],
   "source": []
  }
 ],
 "metadata": {
  "kernelspec": {
   "display_name": "Python [default]",
   "language": "python",
   "name": "python2"
  },
  "language_info": {
   "codemirror_mode": {
    "name": "ipython",
    "version": 2
   },
   "file_extension": ".py",
   "mimetype": "text/x-python",
   "name": "python",
   "nbconvert_exporter": "python",
   "pygments_lexer": "ipython2",
   "version": "2.7.13"
  }
 },
 "nbformat": 4,
 "nbformat_minor": 2
}
