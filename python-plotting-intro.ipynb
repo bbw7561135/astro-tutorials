{
 "cells": [
  {
   "cell_type": "markdown",
   "metadata": {},
   "source": [
    "# Introduction to Python Plotting \n",
    "\n",
    "The goal of this notebook is to demonstrate a few basic plotting techniques.  For lots of great examples see:\n",
    "\n"
   ]
  },
  {
   "cell_type": "code",
   "execution_count": 1,
   "metadata": {},
   "outputs": [],
   "source": [
    "import numpy as np\n",
    "from matplotlib import pyplot as plt\n",
    "%matplotlib inline\n",
    "import os"
   ]
  },
  {
   "cell_type": "markdown",
   "metadata": {},
   "source": [
    "Getting some of the necessary files"
   ]
  },
  {
   "cell_type": "code",
   "execution_count": 2,
   "metadata": {},
   "outputs": [
    {
     "data": {
      "text/plain": [
       "0"
      ]
     },
     "execution_count": 2,
     "metadata": {},
     "output_type": "execute_result"
    }
   ],
   "source": [
    "filename = 'https://raw.github.com/rfinn/astro-tutorials/master/images/unwise-2076p408-w3-img-m.fits'\n",
    "os.system('wget '+filename)\n",
    "filename = 'https://raw.github.com/rfinn/astro-tutorials/master/tables/sizes.txt'\n",
    "os.system('wget '+filename)\n",
    "filename = 'https://raw.github.com/rfinn/astro-tutorials/master/tables/nsa.virgo.fits'\n",
    "os.system('wget '+filename)"
   ]
  },
  {
   "cell_type": "markdown",
   "metadata": {},
   "source": [
    "## Make a plot#\n",
    "\n",
    "* open a figure\n",
    "* make a plot\n",
    "* label axes\n",
    "* add title\n",
    "* save figure\n",
    "* show how to use help to look at other possible arguments\n",
    "\n",
    "### Displaying Errors\n",
    "\n",
    "* make a fake data set - linear relation with noise\n",
    "* create errorbars - 20% of data values\n",
    "* plot data\n",
    "* use fill_between()"
   ]
  },
  {
   "cell_type": "code",
   "execution_count": 3,
   "metadata": {},
   "outputs": [],
   "source": [
    "x = np.arange(0,10)\n",
    "x = x #+ .2*x*np.random.uniform(-1,1,size=len(x))\n",
    "y = x**2\n",
    "yerror = 0.2*y*np.random.random(len(y))"
   ]
  },
  {
   "cell_type": "code",
   "execution_count": 4,
   "metadata": {
    "scrolled": true
   },
   "outputs": [
    {
     "data": {
      "text/plain": [
       "<matplotlib.legend.Legend at 0x119a1b860>"
      ]
     },
     "execution_count": 4,
     "metadata": {},
     "output_type": "execute_result"
    },
    {
     "data": {
      "image/png": "[encoded data removed]",
      "text/plain": [
       "<Figure size 432x288 with 1 Axes>"
      ]
     },
     "metadata": {},
     "output_type": "display_data"
    }
   ],
   "source": [
    "plt.figure()\n",
    "plt.clf()\n",
    "plt.plot(x,y,'gv',markersize=16, label='$y = x^2$')\n",
    "plt.errorbar(x,y,yerror,fmt=\"none\")\n",
    "plt.fill_between(x,y+yerror,y-yerror,color='.5',alpha=.5,zorder=1)\n",
    "plt.xlabel('x variable',fontsize=16)\n",
    "plt.ylabel('$ y = x^2 $', fontsize=18)\n",
    "\n",
    "plt.title('My first plot',fontsize=18)\n",
    "plt.text(1,50,'$hi!$',fontsize=25)\n",
    "# fit a function\n",
    "c = np.polyfit(x,y,2)\n",
    "xfit = np.linspace(0,10,100)\n",
    "yfit = np.polyval(c,xfit)\n",
    "plt.plot(xfit,yfit,'r--',label='best fit',zorder=10)\n",
    "plt.legend(loc='lower right',fontsize=14)"
   ]
  },
  {
   "cell_type": "markdown",
   "metadata": {},
   "source": [
    "## Read in Data ##\n",
    "\n",
    "* read in text file (tables/sizes.txt) using np.loadtxt\n",
    "    * size size_err membflag B/T RA DEC\n",
    "* create new arrays containing size, membflag, BT, ra, dec\n",
    "* plot RA and DEC\n",
    "* flip x axis using ax.invert_xaxis()\n",
    "\n",
    "Can also try this:\n",
    "fig = plt.figure(figsize=(8,6))\n",
    "ax = fig.add_subplot(111, projection=\"mollweide\")\n",
    "ax.scatter(ra.radian, dec.radian)\n",
    "ax.set_xticklabels(['14h','16h','18h','20h','22h','0h','2h','4h','6h','8h','10h'])\n",
    "ax.grid(True)\n",
    "\n",
    "\n"
   ]
  },
  {
   "cell_type": "code",
   "execution_count": 7,
   "metadata": {},
   "outputs": [],
   "source": [
    "mytable = 'tables/sizes.txt'\n",
    "dat = np.loadtxt(mytable)"
   ]
  },
  {
   "cell_type": "code",
   "execution_count": 8,
   "metadata": {},
   "outputs": [
    {
     "ename": "IndexError",
     "evalue": "only integers, slices (`:`), ellipsis (`...`), numpy.newaxis (`None`) and integer or boolean arrays are valid indices",
     "output_type": "error",
     "traceback": [
      "\u001b[0;31m---------------------------------------------------------------------------\u001b[0m",
      "\u001b[0;31mIndexError\u001b[0m                                Traceback (most recent call last)",
      "\u001b[0;32m<ipython-input-8-addba94e1976>\u001b[0m in \u001b[0;36m<module>\u001b[0;34m()\u001b[0m\n\u001b[0;32m----> 1\u001b[0;31m \u001b[0mdat\u001b[0m\u001b[0;34m[\u001b[0m\u001b[0;34m'RA'\u001b[0m\u001b[0;34m]\u001b[0m\u001b[0;34m\u001b[0m\u001b[0m\n\u001b[0m",
      "\u001b[0;31mIndexError\u001b[0m: only integers, slices (`:`), ellipsis (`...`), numpy.newaxis (`None`) and integer or boolean arrays are valid indices"
     ]
    }
   ],
   "source": [
    "dat['RA']"
   ]
  },
  {
   "cell_type": "code",
   "execution_count": 6,
   "metadata": {},
   "outputs": [],
   "source": [
    "from astropy.io import ascii"
   ]
  },
  {
   "cell_type": "markdown",
   "metadata": {},
   "source": [
    "* Repeat Above using ascii.read\n",
    "    * dat = ascii.read('tables/sizes.txt')\n",
    "* import ascii from astropy.io\n",
    "* load table using ascii.read\n",
    "* remake plot above\n",
    "\n",
    "For more on ascii read, see:\n",
    "http://astropy-tutorials.readthedocs.io/en/latest/rst-tutorials/plot-catalog.html"
   ]
  },
  {
   "cell_type": "markdown",
   "metadata": {
    "collapsed": true
   },
   "source": [
    "astronomical filter traces are available here\n",
    "https://www.noao.edu/0.9m/observe/s2kb.html\n",
    "\n"
   ]
  },
  {
   "cell_type": "markdown",
   "metadata": {},
   "source": [
    "## Make a 2-panel plot ##\n",
    "\n",
    "* open a figure\n",
    "* declare a subplot\n",
    "* plot a histogram of column one (sizes)\n",
    "* plot a histogram of column three (B/T)\n",
    "* label axes\n",
    "* add title\n",
    "* adjust spacing between figures using plt.subplots_adjust\n",
    "* save figure"
   ]
  },
  {
   "cell_type": "code",
   "execution_count": null,
   "metadata": {
    "collapsed": true
   },
   "outputs": [],
   "source": []
  },
  {
   "cell_type": "markdown",
   "metadata": {},
   "source": [
    "## Read in a FITS table ##\n",
    "\n",
    "* import astropy\n",
    "* read in table/nsa.virgo.fits using fits.getdata('table/nsa.virgo.fits')\n",
    "* make a plot of RA and DEC\n",
    "* make a scatter plot of RA and DEC\n",
    "* same as above, color coded by ZDISTx3.e5\n",
    "* label xaxis, yaxis, title\n",
    "* invert xaxis"
   ]
  },
  {
   "cell_type": "code",
   "execution_count": null,
   "metadata": {
    "collapsed": true
   },
   "outputs": [],
   "source": []
  },
  {
   "cell_type": "markdown",
   "metadata": {},
   "source": [
    "## Hexbin ##\n",
    "* redo plot above using hexbin"
   ]
  },
  {
   "cell_type": "code",
   "execution_count": null,
   "metadata": {
    "collapsed": true
   },
   "outputs": [],
   "source": []
  },
  {
   "cell_type": "markdown",
   "metadata": {},
   "source": [
    "## Read in a FITS Image ##\n",
    "\n",
    "* read in image/unwise-2076p408-w3-img-m.fits using fits.getdata\n",
    "* display image using imshow\n",
    "* look up some of options within imshow\n",
    "\n",
    "\n",
    "To go further, check out example on how to display RA and DEC on image:\n",
    "http://docs.astropy.org/en/stable/visualization/wcsaxes/\n",
    "\n"
   ]
  },
  {
   "cell_type": "code",
   "execution_count": null,
   "metadata": {
    "collapsed": true
   },
   "outputs": [],
   "source": []
  }
 ],
 "metadata": {
  "kernelspec": {
   "display_name": "Python 3",
   "language": "python",
   "name": "python3"
  },
  "language_info": {
   "codemirror_mode": {
    "name": "ipython",
    "version": 3
   },
   "file_extension": ".py",
   "mimetype": "text/x-python",
   "name": "python",
   "nbconvert_exporter": "python",
   "pygments_lexer": "ipython3",
   "version": "3.6.5"
  }
 },
 "nbformat": 4,
 "nbformat_minor": 2
}
