{
 "cells": [
  {
   "cell_type": "code",
   "execution_count": 19,
   "metadata": {
    "collapsed": true
   },
   "outputs": [],
   "source": [
    "from astropy.io import fits\n",
    "from astropy.table import Table\n",
    "from astropy.io import ascii\n",
    "import numpy as np"
   ]
  },
  {
   "cell_type": "markdown",
   "metadata": {},
   "source": [
    "We are going to read in a fits table that contains info on galaxies in the region of the Virgo cluster."
   ]
  },
  {
   "cell_type": "code",
   "execution_count": 30,
   "metadata": {
    "collapsed": true
   },
   "outputs": [],
   "source": [
    "vfile = 'tables/nsa.virgo.fits'\n",
    "vdat = fits.getdata(vfile)"
   ]
  },
  {
   "cell_type": "markdown",
   "metadata": {},
   "source": [
    "This table has a lot of columns.  The columns are defined here: http://nsatlas.org/data\n",
    "\n",
    "To view the column names:"
   ]
  },
  {
   "cell_type": "code",
   "execution_count": 31,
   "metadata": {
    "collapsed": false
   },
   "outputs": [
    {
     "data": {
      "text/plain": [
       "ColDefs(\n",
       "    name = 'IAUNAME'; format = '19A'\n",
       "    name = 'SUBDIR'; format = '27A'\n",
       "    name = 'RA'; format = 'D'\n",
       "    name = 'DEC'; format = 'D'\n",
       "    name = 'ISDSS'; format = 'J'\n",
       "    name = 'INED'; format = 'J'\n",
       "    name = 'ISIXDF'; format = 'J'\n",
       "    name = 'IALFALFA'; format = 'J'\n",
       "    name = 'IZCAT'; format = 'J'\n",
       "    name = 'ITWODF'; format = 'J'\n",
       "    name = 'MAG'; format = 'E'\n",
       "    name = 'Z'; format = 'E'\n",
       "    name = 'ZSRC'; format = '7A'\n",
       "    name = 'SIZE'; format = 'E'\n",
       "    name = 'RUN'; format = 'I'\n",
       "    name = 'CAMCOL'; format = 'B'\n",
       "    name = 'FIELD'; format = 'I'\n",
       "    name = 'RERUN'; format = '3A'\n",
       "    name = 'XPOS'; format = 'E'\n",
       "    name = 'YPOS'; format = 'E'\n",
       "    name = 'ZLG'; format = 'E'\n",
       "    name = 'ZDIST'; format = 'E'\n",
       "    name = 'ZDIST_ERR'; format = 'E'\n",
       "    name = 'NSAID'; format = 'J'\n",
       "    name = 'NMGY'; format = '7E'\n",
       "    name = 'NMGY_IVAR'; format = '7E'\n",
       "    name = 'OK'; format = 'I'\n",
       "    name = 'RNMGY'; format = '7E'\n",
       "    name = 'ABSMAG'; format = '7E'\n",
       "    name = 'AMIVAR'; format = '7E'\n",
       "    name = 'EXTINCTION'; format = '7E'\n",
       "    name = 'KCORRECT'; format = '7E'\n",
       "    name = 'KCOEFF'; format = '5E'\n",
       "    name = 'MTOL'; format = '7E'\n",
       "    name = 'B300'; format = 'E'\n",
       "    name = 'B1000'; format = 'E'\n",
       "    name = 'METS'; format = 'E'\n",
       "    name = 'MASS'; format = 'E'\n",
       "    name = 'XCEN'; format = 'D'\n",
       "    name = 'YCEN'; format = 'D'\n",
       "    name = 'NPROF'; format = '7E'\n",
       "    name = 'PROFMEAN'; format = '105E'; dim = '( 7, 15)'\n",
       "    name = 'PROFMEAN_IVAR'; format = '105E'; dim = '( 7, 15)'\n",
       "    name = 'QSTOKES'; format = '105E'; dim = '( 7, 15)'\n",
       "    name = 'USTOKES'; format = '105E'; dim = '( 7, 15)'\n",
       "    name = 'BASTOKES'; format = '105E'; dim = '( 7, 15)'\n",
       "    name = 'PHISTOKES'; format = '105E'; dim = '( 7, 15)'\n",
       "    name = 'PETROFLUX'; format = '7E'\n",
       "    name = 'PETROFLUX_IVAR'; format = '7E'\n",
       "    name = 'FIBERFLUX'; format = '7E'\n",
       "    name = 'FIBERFLUX_IVAR'; format = '7E'\n",
       "    name = 'BA50'; format = 'E'\n",
       "    name = 'PHI50'; format = 'E'\n",
       "    name = 'BA90'; format = 'E'\n",
       "    name = 'PHI90'; format = 'E'\n",
       "    name = 'SERSICFLUX'; format = '7E'\n",
       "    name = 'SERSICFLUX_IVAR'; format = '7E'\n",
       "    name = 'SERSIC_N'; format = 'E'\n",
       "    name = 'SERSIC_BA'; format = 'E'\n",
       "    name = 'SERSIC_PHI'; format = 'E'\n",
       "    name = 'ASYMMETRY'; format = '7E'\n",
       "    name = 'CLUMPY'; format = '7E'\n",
       "    name = 'DFLAGS'; format = '7J'\n",
       "    name = 'AID'; format = 'J'\n",
       "    name = 'PID'; format = 'J'\n",
       "    name = 'DVERSION'; format = '8A'\n",
       "    name = 'PROFTHETA'; format = '15E'\n",
       "    name = 'PETROTHETA'; format = 'E'\n",
       "    name = 'PETROTH50'; format = 'E'\n",
       "    name = 'PETROTH90'; format = 'E'\n",
       "    name = 'SERSIC_TH50'; format = 'E'\n",
       "    name = 'OBJNO'; format = 'J'\n",
       "    name = 'PLATE'; format = 'J'\n",
       "    name = 'FIBERID'; format = 'J'\n",
       "    name = 'MJD'; format = 'J'\n",
       "    name = 'COEFF'; format = '7E'\n",
       "    name = 'VDISP'; format = 'E'\n",
       "    name = 'D4000'; format = 'E'\n",
       "    name = 'D4000ERR'; format = 'E'\n",
       "    name = 'FA'; format = 'E'\n",
       "    name = 'FAERR'; format = 'E'\n",
       "    name = 'S2FLUX'; format = 'E'\n",
       "    name = 'S2FLUXERR'; format = 'E'\n",
       "    name = 'S2EW'; format = 'E'\n",
       "    name = 'S2EWERR'; format = 'E'\n",
       "    name = 'S2VMEAS'; format = 'E'\n",
       "    name = 'S2VMERR'; format = 'E'\n",
       "    name = 'S2RATIO'; format = 'E'\n",
       "    name = 'HAFLUX'; format = 'E'\n",
       "    name = 'HAFLUXERR'; format = 'E'\n",
       "    name = 'HAEW'; format = 'E'\n",
       "    name = 'HAEWERR'; format = 'E'\n",
       "    name = 'HAVMEAS'; format = 'E'\n",
       "    name = 'HAVMERR'; format = 'E'\n",
       "    name = 'N2FLUX'; format = 'E'\n",
       "    name = 'N2FLUXERR'; format = 'E'\n",
       "    name = 'N2EW'; format = 'E'\n",
       "    name = 'N2EWERR'; format = 'E'\n",
       "    name = 'N2VMEAS'; format = 'E'\n",
       "    name = 'N2VMERR'; format = 'E'\n",
       "    name = 'HBFLUX'; format = 'E'\n",
       "    name = 'HBFLUXERR'; format = 'E'\n",
       "    name = 'HBEW'; format = 'E'\n",
       "    name = 'HBEWERR'; format = 'E'\n",
       "    name = 'HBVMEAS'; format = 'E'\n",
       "    name = 'HBVMERR'; format = 'E'\n",
       "    name = 'O1FLUX'; format = 'E'\n",
       "    name = 'O1FLUXERR'; format = 'E'\n",
       "    name = 'O1EW'; format = 'E'\n",
       "    name = 'O1EWERR'; format = 'E'\n",
       "    name = 'O1VMEAS'; format = 'E'\n",
       "    name = 'O1VMERR'; format = 'E'\n",
       "    name = 'O2FLUX'; format = 'E'\n",
       "    name = 'O2FLUXERR'; format = 'E'\n",
       "    name = 'O2EW'; format = 'E'\n",
       "    name = 'O2EWERR'; format = 'E'\n",
       "    name = 'O2VMEAS'; format = 'E'\n",
       "    name = 'O2VMERR'; format = 'E'\n",
       "    name = 'O3FLUX'; format = 'E'\n",
       "    name = 'O3FLUXERR'; format = 'E'\n",
       "    name = 'O3EW'; format = 'E'\n",
       "    name = 'O3EWERR'; format = 'E'\n",
       "    name = 'O3VMEAS'; format = 'E'\n",
       "    name = 'O3VMERR'; format = 'E'\n",
       "    name = 'AHGEW'; format = 'E'\n",
       "    name = 'AHGEWERR'; format = 'E'\n",
       "    name = 'AHDEW'; format = 'E'\n",
       "    name = 'AHDEWERR'; format = 'E'\n",
       "    name = 'NE3EW'; format = 'E'\n",
       "    name = 'NE3EWERR'; format = 'E'\n",
       "    name = 'NE5EW'; format = 'E'\n",
       "    name = 'NE5EWERR'; format = 'E'\n",
       "    name = 'AV'; format = 'E'\n",
       "    name = 'S2NSAMP'; format = 'E'\n",
       "    name = 'RACAT'; format = 'D'\n",
       "    name = 'DECCAT'; format = 'D'\n",
       "    name = 'ZSDSSLINE'; format = 'E'\n",
       "    name = 'SURVEY'; format = '6A'\n",
       "    name = 'PROGRAMNAME'; format = '23A'\n",
       "    name = 'PLATEQUALITY'; format = '8A'\n",
       "    name = 'TILE'; format = 'J'\n",
       "    name = 'PLUG_RA'; format = 'D'\n",
       "    name = 'PLUG_DEC'; format = 'D'\n",
       ")"
      ]
     },
     "execution_count": 31,
     "metadata": {},
     "output_type": "execute_result"
    }
   ],
   "source": [
    "vdat.columns"
   ]
  },
  {
   "cell_type": "markdown",
   "metadata": {},
   "source": [
    "For a void-finding algorithm, we want to print out the RA, DEC and recession velocity.  The catalog I read in has redshift, so we need to calculate recession velocity:\n",
    "\n",
    "$$ v_r = z \\times c $$"
   ]
  },
  {
   "cell_type": "code",
   "execution_count": 32,
   "metadata": {
    "collapsed": true
   },
   "outputs": [],
   "source": [
    "from astropy import constants as const"
   ]
  },
  {
   "cell_type": "code",
   "execution_count": 33,
   "metadata": {
    "collapsed": false
   },
   "outputs": [
    {
     "data": {
      "text/latex": [
       "$299792.46 \\; \\mathrm{\\frac{km}{s}}$"
      ],
      "text/plain": [
       "<Quantity 299792.458 km / s>"
      ]
     },
     "execution_count": 33,
     "metadata": {},
     "output_type": "execute_result"
    }
   ],
   "source": [
    "const.c.to('km/s')"
   ]
  },
  {
   "cell_type": "markdown",
   "metadata": {},
   "source": [
    "We can now calculate recession velocity from the redshift (column ZDIST)"
   ]
  },
  {
   "cell_type": "code",
   "execution_count": 34,
   "metadata": {
    "collapsed": true
   },
   "outputs": [],
   "source": [
    "vr = vdat.ZDIST*const.c.to('km/s')"
   ]
  },
  {
   "cell_type": "markdown",
   "metadata": {},
   "source": [
    "We need to write a table with 7 columns.  The columns are\n",
    "\n",
    "* 1 - index\n",
    "* 2 - not used, but we will use the NSA ID\n",
    "* 3 - not used, but we need to use something as a place holder\n",
    "* 4 - RA\n",
    "* 5 - DEC\n",
    "* 6 - recession velocity (km/s)\n",
    "* 7 - magnitude\n",
    "* 8 - not used, but we need to use something as a place holder\n",
    "\n",
    "We need to define the index and the magnitude first:"
   ]
  },
  {
   "cell_type": "code",
   "execution_count": 35,
   "metadata": {
    "collapsed": false
   },
   "outputs": [
    {
     "name": "stderr",
     "output_type": "stream",
     "text": [
      "/anaconda/lib/python2.7/site-packages/ipykernel/__main__.py:3: RuntimeWarning: invalid value encountered in log10\n",
      "  app.launch_new_instance()\n"
     ]
    }
   ],
   "source": [
    "index = np.arange(len(vdat.ZDIST))\n",
    "# use r-band magnitude from NSA catalog\n",
    "mag = 22.5 - 2.5*np.log10(vdat.NMGY[:,4])\n"
   ]
  },
  {
   "cell_type": "markdown",
   "metadata": {},
   "source": [
    "We are going to use astropy.table to create an ascii table."
   ]
  },
  {
   "cell_type": "code",
   "execution_count": 37,
   "metadata": {
    "collapsed": false
   },
   "outputs": [],
   "source": [
    "cols = [index,vdat.NSAID,vdat.NSAID,vdat.RA,vdat.DEC, vr, mag, mag]\n",
    "colnames = ['index', 'nsaid', 'nsaid1','RA','DEC','vr','mag','mag1']\n",
    "newtable = Table(cols, names=colnames)\n",
    "newtable.write('tables/virgovoids.dat',overwrite=True,format='ascii.fast_no_header')"
   ]
  },
  {
   "cell_type": "code",
   "execution_count": null,
   "metadata": {
    "collapsed": true
   },
   "outputs": [],
   "source": []
  }
 ],
 "metadata": {
  "kernelspec": {
   "display_name": "Python [default]",
   "language": "python",
   "name": "python2"
  },
  "language_info": {
   "codemirror_mode": {
    "name": "ipython",
    "version": 2
   },
   "file_extension": ".py",
   "mimetype": "text/x-python",
   "name": "python",
   "nbconvert_exporter": "python",
   "pygments_lexer": "ipython2",
   "version": "2.7.13"
  }
 },
 "nbformat": 4,
 "nbformat_minor": 2
}
