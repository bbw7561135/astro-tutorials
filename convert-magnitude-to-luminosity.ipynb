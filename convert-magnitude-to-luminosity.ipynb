{
 "cells": [
  {
   "cell_type": "markdown",
   "metadata": {},
   "source": [
    "## Jansky's and all that ##"
   ]
  },
  {
   "cell_type": "code",
   "execution_count": 36,
   "metadata": {
    "collapsed": true
   },
   "outputs": [],
   "source": [
    "import numpy as np\n",
    "import astropy.units as u\n",
    "import astropy.constants as const\n"
   ]
  },
  {
   "cell_type": "markdown",
   "metadata": {},
   "source": [
    "* We have a galaxy with a K-band magnitude of 9.14.\n",
    "* We want to convert 2MASS magnitude (Vega) to AB magnitude (http://www.astronomy.ohio-state.edu/~martini/usefuldata.html)\n",
    "    \n",
    "    $ K_{AB} = K_{Vega} + 1.85 $\n",
    "    \n",
    "    \n",
    "* Convert to flux\n",
    "\n",
    "    $ AB_{mag} = -2.5 log_{10}(F_\\nu) - 48.6 $\n",
    "    \n",
    "    \n",
    "* In the AB system, $m = 0$ corresponds to \n",
    "    \n",
    "    $ F_{\\nu} = 3.63 \\times 10^{-20} \\ erg \\ cm^{-2} \\ s^{-1} \\ Hz^{-1} $\n",
    "    \n",
    "    \n",
    "* We want to convert that into a luminosity using distance to galaxy.\n",
    "    \n",
    "   "
   ]
  },
  {
   "cell_type": "code",
   "execution_count": 3,
   "metadata": {
    "collapsed": true
   },
   "outputs": [],
   "source": [
    "K_vega = 9.14\n",
    "K_AB = K_vega + 1.85\n",
    "Fnu_0 = 3631. # Jansky"
   ]
  },
  {
   "cell_type": "markdown",
   "metadata": {},
   "source": [
    "$ m_2 - m_1 = 2.5 log_{10}\\left(\\frac{f_1}{f_2}\\right)  $\n",
    "\n",
    "let $m_2 = galaxy$, $m_1 = 0$.  Then\n",
    "\n",
    "$m_2 = 2.5 log_{10}\\left(\\frac{f_0}{f_2}\\right) $\n",
    "\n",
    "Solve for $f_0$:\n",
    "\n",
    "\n",
    "$ 10^{m_2/2.5} = \\left(\\frac{f_0}{f_2}\\right) $\n",
    "\n",
    "$ f_2 = f_0 \\times 10^{-\\frac{m_2}{2.5}} $\n"
   ]
  },
  {
   "cell_type": "code",
   "execution_count": 9,
   "metadata": {
    "collapsed": false
   },
   "outputs": [],
   "source": [
    "Fnu_galaxy = Fnu_0 * 10**(-1*K_AB/2.5)* u.Jy"
   ]
  },
  {
   "cell_type": "code",
   "execution_count": 10,
   "metadata": {
    "collapsed": false
   },
   "outputs": [
    {
     "data": {
      "text/latex": [
       "$0.14589024 \\; \\mathrm{Jy}$"
      ],
      "text/plain": [
       "<Quantity 0.14589024341925014 Jy>"
      ]
     },
     "execution_count": 10,
     "metadata": {},
     "output_type": "execute_result"
    }
   ],
   "source": [
    "Fnu_galaxy "
   ]
  },
  {
   "cell_type": "code",
   "execution_count": 14,
   "metadata": {
    "collapsed": false
   },
   "outputs": [
    {
     "data": {
      "text/latex": [
       "$1.4589024 \\times 10^{-27} \\; \\mathrm{\\frac{kg}{s^{2}}}$"
      ],
      "text/plain": [
       "<Quantity 1.4589024341925014e-27 kg / s2>"
      ]
     },
     "execution_count": 14,
     "metadata": {},
     "output_type": "execute_result"
    }
   ],
   "source": [
    "Fnu_galaxy.si # really W/m^2/s Hz-1"
   ]
  },
  {
   "cell_type": "markdown",
   "metadata": {},
   "source": [
    "Are these units equivalent???\n",
    "\n",
    "$ 1 Jy = 10^{-26}~ W~m^{-2}~ Hz^{-1} $\n",
    "\n",
    "$ 1 W = J/s = N~ m/s = kg~ m/s^2 \\times m/s = kg~ m^2/s^3 $\n",
    "\n",
    "$ 1 Jy = 10^{-26} ~\\frac{ kg~m^2}{s^3} ~ \\frac{1}{m^2} ~ \\frac{s}{1} $\n",
    "\n",
    "$ 1 Jy = 10^{-26} ~\\frac{ kg}{s^2}  $"
   ]
  },
  {
   "cell_type": "markdown",
   "metadata": {},
   "source": [
    "## Convert flux density ($F_\\nu$) to flux ##\n",
    "\n",
    "$ F = \\nu F_\\nu$\n",
    "\n",
    "http://www.astro.sunysb.edu/aevans/PHY523/classnotes523/useful-definitions-pp.pdf"
   ]
  },
  {
   "cell_type": "code",
   "execution_count": 37,
   "metadata": {
    "collapsed": false
   },
   "outputs": [
    {
     "data": {
      "text/latex": [
       "$2.9979246 \\times 10^{8} \\; \\mathrm{\\frac{m}{s}}$"
      ],
      "text/plain": [
       "<Constant name=u'Speed of light in vacuum' value=299792458.0 uncertainty=0.0 unit='m / s' reference=u'CODATA 2010'>"
      ]
     },
     "execution_count": 37,
     "metadata": {},
     "output_type": "execute_result"
    }
   ],
   "source": [
    "const.c"
   ]
  },
  {
   "cell_type": "code",
   "execution_count": 21,
   "metadata": {
    "collapsed": false
   },
   "outputs": [
    {
     "name": "stdout",
     "output_type": "stream",
     "text": [
      "2.19e-06 m\n"
     ]
    }
   ],
   "source": [
    "wavelength = 2.19*u.micron\n",
    "print wavelength.to('m')"
   ]
  },
  {
   "cell_type": "code",
   "execution_count": 38,
   "metadata": {
    "collapsed": false
   },
   "outputs": [
    {
     "name": "stdout",
     "output_type": "stream",
     "text": [
      "1.36891533333e+14 1 / s\n"
     ]
    }
   ],
   "source": [
    "frequency = const.c/wavelength.to('m')\n",
    "print frequency"
   ]
  },
  {
   "cell_type": "code",
   "execution_count": 24,
   "metadata": {
    "collapsed": true
   },
   "outputs": [],
   "source": [
    "Flux = frequency * Fnu_galaxy"
   ]
  },
  {
   "cell_type": "code",
   "execution_count": 26,
   "metadata": {
    "collapsed": false
   },
   "outputs": [
    {
     "name": "stdout",
     "output_type": "stream",
     "text": [
      "1.997113912e-13 kg / s3\n"
     ]
    }
   ],
   "source": [
    "print Flux.si"
   ]
  },
  {
   "cell_type": "markdown",
   "metadata": {},
   "source": [
    "## Calculate Distance ##\n",
    "\n",
    "redshift = 0.003723\n",
    "\n",
    "v_r = z*c\n",
    "\n",
    "distance = v_r / H_0"
   ]
  },
  {
   "cell_type": "code",
   "execution_count": 28,
   "metadata": {
    "collapsed": true
   },
   "outputs": [],
   "source": [
    "z = .003723\n",
    "vr = z*const.c"
   ]
  },
  {
   "cell_type": "code",
   "execution_count": 29,
   "metadata": {
    "collapsed": false
   },
   "outputs": [
    {
     "name": "stdout",
     "output_type": "stream",
     "text": [
      "1116127.32113 m / s\n"
     ]
    }
   ],
   "source": [
    "print vr"
   ]
  },
  {
   "cell_type": "code",
   "execution_count": 30,
   "metadata": {
    "collapsed": true
   },
   "outputs": [],
   "source": [
    "H0 = 71 *u.km/u.Mpc/u.s"
   ]
  },
  {
   "cell_type": "code",
   "execution_count": 31,
   "metadata": {
    "collapsed": true
   },
   "outputs": [],
   "source": [
    "dist = vr/H0"
   ]
  },
  {
   "cell_type": "code",
   "execution_count": 33,
   "metadata": {
    "collapsed": false
   },
   "outputs": [
    {
     "name": "stdout",
     "output_type": "stream",
     "text": [
      "4.8507169759e+23 m\n"
     ]
    }
   ],
   "source": [
    "print dist.si"
   ]
  },
  {
   "cell_type": "markdown",
   "metadata": {},
   "source": [
    "## Calculate Luminosity ##\n",
    "\n",
    "$ Flux = \\frac{L}{4 \\pi d^2} $\n",
    "\n",
    "\n",
    "$ L = Flux \\times 4 \\pi d^2 $"
   ]
  },
  {
   "cell_type": "code",
   "execution_count": 34,
   "metadata": {
    "collapsed": true
   },
   "outputs": [],
   "source": [
    "luminosity = Flux.si*4*np.pi*dist.si**2"
   ]
  },
  {
   "cell_type": "code",
   "execution_count": 39,
   "metadata": {
    "collapsed": false
   },
   "outputs": [],
   "source": [
    "lum_solar_units = luminosity/const.L_sun"
   ]
  },
  {
   "cell_type": "code",
   "execution_count": 45,
   "metadata": {
    "collapsed": false
   },
   "outputs": [
    {
     "name": "stdout",
     "output_type": "stream",
     "text": [
      "9.18621529241\n"
     ]
    }
   ],
   "source": [
    "print np.log10(lum_solar_units.si)"
   ]
  },
  {
   "cell_type": "markdown",
   "metadata": {},
   "source": []
  }
 ],
 "metadata": {
  "kernelspec": {
   "display_name": "Python [default]",
   "language": "python",
   "name": "python2"
  },
  "language_info": {
   "codemirror_mode": {
    "name": "ipython",
    "version": 2
   },
   "file_extension": ".py",
   "mimetype": "text/x-python",
   "name": "python",
   "nbconvert_exporter": "python",
   "pygments_lexer": "ipython2",
   "version": "2.7.13"
  }
 },
 "nbformat": 4,
 "nbformat_minor": 2
}
